{
 "cells": [
  {
   "cell_type": "code",
   "execution_count": 16,
   "metadata": {},
   "outputs": [],
   "source": [
    "import numpy as np\n",
    "import pandas as pd"
   ]
  },
  {
   "cell_type": "code",
   "execution_count": 18,
   "metadata": {},
   "outputs": [],
   "source": [
    "def t(x):\n",
    "    print(\"--------------------------------------------------------------------------------------------------------\")\n",
    "    print(x)\n",
    "    print(\"--------------------------------------------------------------------------------------------------------\")    \n",
    "    return(None)"
   ]
  },
  {
   "cell_type": "code",
   "execution_count": 19,
   "metadata": {},
   "outputs": [
    {
     "name": "stdout",
     "output_type": "stream",
     "text": [
      "--------------------------------------------------------------------------------------------------------\n",
      "Start of the tutorial\n",
      "--------------------------------------------------------------------------------------------------------\n"
     ]
    }
   ],
   "source": [
    "t(\"Start of the tutorial\")"
   ]
  },
  {
   "cell_type": "code",
   "execution_count": 21,
   "metadata": {},
   "outputs": [
    {
     "name": "stdout",
     "output_type": "stream",
     "text": [
      "--------------------------------------------------------------------------------------------------------\n",
      "Manual entering of data into a data frame\n",
      "--------------------------------------------------------------------------------------------------------\n",
      "     Name  Age College name    Country\n",
      "1  Akshar   20          VIT      Vizag\n",
      "2    Hari   22          VIT  Hyderabad\n",
      "3  Vishal   20          SFU  Vancouver\n"
     ]
    }
   ],
   "source": [
    "t(\"Manual entering of data into a data frame\")\n",
    "df=pd.DataFrame([[\"Akshar\",20,\"VIT\",\"Vizag\"],[\"Hari\",22,\"VIT\",\"Hyderabad\"],[\"Vishal\",20,\"SFU\",\"Vancouver\"]],columns=[\"Name\",\"Age\",\"College name\",\"Country\"],index=[1,2,3])\n",
    "print(df)"
   ]
  },
  {
   "cell_type": "code",
   "execution_count": 22,
   "metadata": {},
   "outputs": [
    {
     "name": "stdout",
     "output_type": "stream",
     "text": [
      "--------------------------------------------------------------------------------------------------------\n",
      "importing a text file\n",
      "--------------------------------------------------------------------------------------------------------\n",
      "   month  avg_high  avg_low  record_high  record_low  avg_precipitation\n",
      "0    Jan        58       42           74          22               2.95\n",
      "1    Feb        61       45           78          26               3.02\n",
      "2    Mar        65       48           84          25               2.34\n",
      "3    Apr        67       50           92          28               1.02\n",
      "4    May        71       53           98          35               0.48\n",
      "5    Jun        75       56          107          41               0.11\n",
      "6    Jul        77       58          105          44               0.00\n",
      "7    Aug        77       59          102          43               0.03\n",
      "8    Sep        77       57          103          40               0.17\n",
      "9    Oct        73       54           96          34               0.81\n",
      "10   Nov        64       48           84          30               1.70\n",
      "11   Dec        58       42           73          21               2.56\n"
     ]
    }
   ],
   "source": [
    "t(\"importing a text file\")\n",
    "filename=\"fremont_weather.txt\"\n",
    "df=pd.read_csv(filename)\n",
    "print(df)"
   ]
  },
  {
   "cell_type": "code",
   "execution_count": 23,
   "metadata": {},
   "outputs": [
    {
     "name": "stdout",
     "output_type": "stream",
     "text": [
      "--------------------------------------------------------------------------------------------------------\n",
      "How to view glimpses of the data file\n",
      "--------------------------------------------------------------------------------------------------------\n",
      "--------------------------------------------------------------------------------------------------------\n",
      "Top 5\n",
      "--------------------------------------------------------------------------------------------------------\n",
      "  month  avg_high  avg_low  record_high  record_low  avg_precipitation\n",
      "0   Jan        58       42           74          22               2.95\n",
      "1   Feb        61       45           78          26               3.02\n",
      "2   Mar        65       48           84          25               2.34\n",
      "3   Apr        67       50           92          28               1.02\n",
      "4   May        71       53           98          35               0.48\n",
      "--------------------------------------------------------------------------------------------------------\n",
      "Bottom 5\n",
      "--------------------------------------------------------------------------------------------------------\n",
      "   month  avg_high  avg_low  record_high  record_low  avg_precipitation\n",
      "7    Aug        77       59          102          43               0.03\n",
      "8    Sep        77       57          103          40               0.17\n",
      "9    Oct        73       54           96          34               0.81\n",
      "10   Nov        64       48           84          30               1.70\n",
      "11   Dec        58       42           73          21               2.56\n"
     ]
    }
   ],
   "source": [
    "t(\"How to view glimpses of the data file\")\n",
    "t(\"Top 5\")\n",
    "print(df.head())\n",
    "t(\"Bottom 5\")\n",
    "print(df.tail())\n"
   ]
  },
  {
   "cell_type": "code",
   "execution_count": 30,
   "metadata": {},
   "outputs": [
    {
     "name": "stdout",
     "output_type": "stream",
     "text": [
      "--------------------------------------------------------------------------------------------------------\n",
      "How to access data types, indices , column names and values\n",
      "--------------------------------------------------------------------------------------------------------\n",
      "--------------------------------------------------------------------------------------------------------\n",
      "Data Types\n",
      "--------------------------------------------------------------------------------------------------------\n",
      "month                 object\n",
      "avg_high               int64\n",
      "avg_low                int64\n",
      "record_high            int64\n",
      "record_low             int64\n",
      "avg_precipitation    float64\n",
      "dtype: object\n",
      "--------------------------------------------------------------------------------------------------------\n",
      "indices\n",
      "--------------------------------------------------------------------------------------------------------\n",
      "RangeIndex(start=0, stop=12, step=1)\n",
      "--------------------------------------------------------------------------------------------------------\n",
      "Column names\n",
      "--------------------------------------------------------------------------------------------------------\n",
      "Index(['month', 'avg_high', 'avg_low', 'record_high', 'record_low',\n",
      "       'avg_precipitation'],\n",
      "      dtype='object')\n",
      "--------------------------------------------------------------------------------------------------------\n",
      "values\n",
      "--------------------------------------------------------------------------------------------------------\n",
      "[['Jan' 58 42 74 22 2.95]\n",
      " ['Feb' 61 45 78 26 3.02]\n",
      " ['Mar' 65 48 84 25 2.34]\n",
      " ['Apr' 67 50 92 28 1.02]\n",
      " ['May' 71 53 98 35 0.48]\n",
      " ['Jun' 75 56 107 41 0.11]\n",
      " ['Jul' 77 58 105 44 0.0]\n",
      " ['Aug' 77 59 102 43 0.03]\n",
      " ['Sep' 77 57 103 40 0.17]\n",
      " ['Oct' 73 54 96 34 0.81]\n",
      " ['Nov' 64 48 84 30 1.7]\n",
      " ['Dec' 58 42 73 21 2.56]]\n"
     ]
    }
   ],
   "source": [
    "t(\"How to access data types, indices , column names and values\")\n",
    "t(\"Data Types\")\n",
    "print(df.dtypes)\n",
    "t(\"indices\")\n",
    "print(df.index)\n",
    "t(\"Column names\")\n",
    "print(df.columns)\n",
    "t(\"values\")\n",
    "print(df.values)"
   ]
  },
  {
   "cell_type": "code",
   "execution_count": 33,
   "metadata": {},
   "outputs": [
    {
     "name": "stdout",
     "output_type": "stream",
     "text": [
      "--------------------------------------------------------------------------------------------------------\n",
      "statistical summary\n",
      "--------------------------------------------------------------------------------------------------------\n",
      "        avg_high    avg_low  record_high  record_low  avg_precipitation\n",
      "count  12.000000  12.000000    12.000000   12.000000          12.000000\n",
      "mean   68.583333  51.000000    91.333333   32.416667           1.265833\n",
      "std     7.366488   6.060303    12.323911    8.240238           1.186396\n",
      "min    58.000000  42.000000    73.000000   21.000000           0.000000\n",
      "25%    63.250000  47.250000    82.500000   25.750000           0.155000\n",
      "50%    69.000000  51.500000    94.000000   32.000000           0.915000\n",
      "75%    75.500000  56.250000   102.250000   40.250000           2.395000\n",
      "max    77.000000  59.000000   107.000000   44.000000           3.020000\n"
     ]
    }
   ],
   "source": [
    "t(\"statistical summary\")\n",
    "print(df.describe())"
   ]
  },
  {
   "cell_type": "code",
   "execution_count": 34,
   "metadata": {},
   "outputs": [
    {
     "name": "stdout",
     "output_type": "stream",
     "text": [
      "--------------------------------------------------------------------------------------------------------\n",
      "Sorting the data frame eith relative to a column\n",
      "--------------------------------------------------------------------------------------------------------\n",
      "   month  avg_high  avg_low  record_high  record_low  avg_precipitation\n",
      "6    Jul        77       58          105          44               0.00\n",
      "7    Aug        77       59          102          43               0.03\n",
      "8    Sep        77       57          103          40               0.17\n",
      "5    Jun        75       56          107          41               0.11\n",
      "9    Oct        73       54           96          34               0.81\n",
      "4    May        71       53           98          35               0.48\n",
      "3    Apr        67       50           92          28               1.02\n",
      "2    Mar        65       48           84          25               2.34\n",
      "10   Nov        64       48           84          30               1.70\n",
      "1    Feb        61       45           78          26               3.02\n",
      "0    Jan        58       42           74          22               2.95\n",
      "11   Dec        58       42           73          21               2.56\n"
     ]
    }
   ],
   "source": [
    "t(\"Sorting the data frame eith relative to a column\")\n",
    "sorted_df=df.sort_values('avg_high',ascending=False)\n",
    "print(sorted_df)"
   ]
  },
  {
   "cell_type": "code",
   "execution_count": 41,
   "metadata": {},
   "outputs": [
    {
     "name": "stdout",
     "output_type": "stream",
     "text": [
      "--------------------------------------------------------------------------------------------------------\n",
      "Different ways to slice the data\n",
      "--------------------------------------------------------------------------------------------------------\n",
      "0     58\n",
      "1     61\n",
      "2     65\n",
      "3     67\n",
      "4     71\n",
      "5     75\n",
      "6     77\n",
      "7     77\n",
      "8     77\n",
      "9     73\n",
      "10    64\n",
      "11    58\n",
      "Name: avg_high, dtype: int64\n",
      "0     58\n",
      "1     61\n",
      "2     65\n",
      "3     67\n",
      "4     71\n",
      "5     75\n",
      "6     77\n",
      "7     77\n",
      "8     77\n",
      "9     73\n",
      "10    64\n",
      "11    58\n",
      "Name: avg_high, dtype: int64\n",
      "    avg_high\n",
      "0         58\n",
      "1         61\n",
      "2         65\n",
      "3         67\n",
      "4         71\n",
      "5         75\n",
      "6         77\n",
      "7         77\n",
      "8         77\n",
      "9         73\n",
      "10        64\n",
      "11        58\n",
      "   month  avg_high  avg_low  record_high  record_low  avg_precipitation\n",
      "0    Jan        58       42           74          22               2.95\n",
      "1    Feb        61       45           78          26               3.02\n",
      "2    Mar        65       48           84          25               2.34\n",
      "3    Apr        67       50           92          28               1.02\n",
      "4    May        71       53           98          35               0.48\n",
      "5    Jun        75       56          107          41               0.11\n",
      "6    Jul        77       58          105          44               0.00\n",
      "7    Aug        77       59          102          43               0.03\n",
      "8    Sep        77       57          103          40               0.17\n",
      "9    Oct        73       54           96          34               0.81\n",
      "10   Nov        64       48           84          30               1.70\n",
      "11   Dec        58       42           73          21               2.56\n"
     ]
    }
   ],
   "source": [
    "t(\"Different ways to slice the data\")\n",
    "print(df.avg_high)\n",
    "print(df['avg_high'])\n",
    "print(df.loc[:,['avg_high']])\n",
    "print(df.iloc[:,:])"
   ]
  },
  {
   "cell_type": "code",
   "execution_count": 46,
   "metadata": {},
   "outputs": [
    {
     "name": "stdout",
     "output_type": "stream",
     "text": [
      "--------------------------------------------------------------------------------------------------------\n",
      "Filtering the data\n",
      "--------------------------------------------------------------------------------------------------------\n",
      "--------------------------------------------------------------------------------------------------------\n",
      "1st method\n",
      "--------------------------------------------------------------------------------------------------------\n",
      "  month  avg_high  avg_low  record_high  record_low  avg_precipitation\n",
      "3   Apr        67       50           92          28               1.02\n",
      "4   May        71       53           98          35               0.48\n",
      "5   Jun        75       56          107          41               0.11\n",
      "6   Jul        77       58          105          44               0.00\n",
      "7   Aug        77       59          102          43               0.03\n",
      "8   Sep        77       57          103          40               0.17\n",
      "9   Oct        73       54           96          34               0.81\n",
      "--------------------------------------------------------------------------------------------------------\n",
      "2nd method\n",
      "--------------------------------------------------------------------------------------------------------\n",
      "  month  avg_high  avg_low  record_high  record_low  avg_precipitation\n",
      "0   Jan        58       42           74          22               2.95\n",
      "2   Mar        65       48           84          25               2.34\n",
      "7   Aug        77       59          102          43               0.03\n"
     ]
    }
   ],
   "source": [
    "t(\"Filtering the data\")\n",
    "t(\"1st method\")\n",
    "print(df[df[\"avg_high\"]>65])\n",
    "t('2nd method')\n",
    "print(df[df['month'].isin([\"Jan\",\"Aug\",\"Mar\"])])"
   ]
  },
  {
   "cell_type": "code",
   "execution_count": 56,
   "metadata": {},
   "outputs": [
    {
     "name": "stdout",
     "output_type": "stream",
     "text": [
      "--------------------------------------------------------------------------------------------------------\n",
      "Assignment/ Asssigning values\n",
      "--------------------------------------------------------------------------------------------------------\n",
      "  month  avg_high  avg_low  record_high  record_low  avg_precipitation  \\\n",
      "0   Jan        58       42         74.0          22               2.95   \n",
      "1   Feb        61       45         78.0          26               3.02   \n",
      "2   Mar        57       48          NaN          25               2.34   \n",
      "3   Apr        67       50         92.0          28               1.02   \n",
      "4   May        71       53         98.0          35               0.48   \n",
      "\n",
      "   avg_day  \n",
      "0     50.0  \n",
      "1     53.0  \n",
      "2     52.5  \n",
      "3     58.5  \n",
      "4     62.0  \n",
      "  month  avg_high  avg_low  record_high  record_low  avg_precipitation  \\\n",
      "0   Jan        58       42         74.0          22               2.95   \n",
      "1   Feb        61       45         78.0          26               3.02   \n",
      "2   Mar        57       48          NaN          25               2.34   \n",
      "3   Apr        67       50         92.0          28               1.02   \n",
      "4   May        71       53         98.0          35               0.48   \n",
      "\n",
      "   avg_day  \n",
      "0     50.0  \n",
      "1     53.0  \n",
      "2     52.5  \n",
      "3     58.5  \n",
      "4     62.0  \n",
      "  month  avg_high  avg_low  record_high  record_low  avg_precipitation  \\\n",
      "0   Jan        58       42         74.0          22               2.95   \n",
      "1   Feb        61       45         78.0          26               3.02   \n",
      "2   Mar        57       48          NaN          25               2.34   \n",
      "3   Apr        67       50         92.0          28               1.02   \n",
      "4   May        71       53         98.0          35               0.48   \n",
      "\n",
      "   avg_day  \n",
      "0       50  \n",
      "1       53  \n",
      "2       52  \n",
      "3       58  \n",
      "4       62  \n"
     ]
    }
   ],
   "source": [
    "t(\"Assignment/ Asssigning values\")\n",
    "df.loc[2,['avg_high']]=57\n",
    "print(df.head())\n",
    "df.loc[2,['record_high']]=np.nan\n",
    "print(df.head())\n",
    "df['avg_day']=(df['avg_high']+df['avg_low'])//2\n",
    "print(df.head())"
   ]
  },
  {
   "cell_type": "code",
   "execution_count": 65,
   "metadata": {},
   "outputs": [
    {
     "name": "stdout",
     "output_type": "stream",
     "text": [
      "--------------------------------------------------------------------------------------------------------\n",
      "Renaming columns\n",
      "--------------------------------------------------------------------------------------------------------\n",
      "--------------------------------------------------------------------------------------------------------\n",
      "1st method to rename only 1 column\n",
      "--------------------------------------------------------------------------------------------------------\n",
      "  month  avg_high  avg_low  recorded_highest  recorded_lowest  avg_rain  \\\n",
      "0   Jan        58       42              74.0               22      2.95   \n",
      "1   Feb        61       45              78.0               26      3.02   \n",
      "2   Mar        57       48               NaN               25      2.34   \n",
      "3   Apr        67       50              92.0               28      1.02   \n",
      "4   May        71       53              98.0               35      0.48   \n",
      "\n",
      "   avg_day  \n",
      "0       50  \n",
      "1       53  \n",
      "2       52  \n",
      "3       58  \n",
      "4       62  \n",
      "--------------------------------------------------------------------------------------------------------\n",
      "2nd method to change the whole column names\n",
      "--------------------------------------------------------------------------------------------------------\n",
      "  month  avg_high  avg_low  recorded_highest  recorded_lowest  \\\n",
      "0   Jan        58       42              74.0               22   \n",
      "1   Feb        61       45              78.0               26   \n",
      "2   Mar        57       48               NaN               25   \n",
      "3   Apr        67       50              92.0               28   \n",
      "4   May        71       53              98.0               35   \n",
      "\n",
      "   avg_precipitation  avg_day  \n",
      "0               2.95       50  \n",
      "1               3.02       53  \n",
      "2               2.34       52  \n",
      "3               1.02       58  \n",
      "4               0.48       62  \n"
     ]
    }
   ],
   "source": [
    "t('Renaming columns')\n",
    "t('1st method to rename only 1 column')\n",
    "df.rename(columns = {'avg_precipitation':'avg_rain'}, inplace=True)\t\n",
    "print(df.head())\n",
    "t('2nd method to change the whole column names')\n",
    "df.columns=['month','avg_high','avg_low','recorded_highest','recorded_lowest','avg_precipitation','avg_day']\n",
    "print(df.head())"
   ]
  },
  {
   "cell_type": "code",
   "execution_count": 71,
   "metadata": {},
   "outputs": [
    {
     "name": "stdout",
     "output_type": "stream",
     "text": [
      "--------------------------------------------------------------------------------------------------------\n",
      "Iterating through a DataFrame\n",
      "--------------------------------------------------------------------------------------------------------\n",
      "0 58\n",
      "1 61\n",
      "2 57\n",
      "3 67\n",
      "4 71\n",
      "5 75\n",
      "6 77\n",
      "7 77\n",
      "8 77\n",
      "9 73\n",
      "10 64\n",
      "11 58\n"
     ]
    }
   ],
   "source": [
    "t(\"Iterating through a DataFrame\")\n",
    "for index,rows in df.iterrows():\n",
    "    print(index,rows['avg_high'])"
   ]
  },
  {
   "cell_type": "code",
   "execution_count": 72,
   "metadata": {},
   "outputs": [],
   "source": [
    "#Dumping into a csv\n",
    "df.to_csv(\"Data.csv\")"
   ]
  },
  {
   "cell_type": "code",
   "execution_count": null,
   "metadata": {},
   "outputs": [],
   "source": []
  },
  {
   "cell_type": "code",
   "execution_count": null,
   "metadata": {},
   "outputs": [],
   "source": []
  }
 ],
 "metadata": {
  "kernelspec": {
   "display_name": "Python 3",
   "language": "python",
   "name": "python3"
  },
  "language_info": {
   "codemirror_mode": {
    "name": "ipython",
    "version": 3
   },
   "file_extension": ".py",
   "mimetype": "text/x-python",
   "name": "python",
   "nbconvert_exporter": "python",
   "pygments_lexer": "ipython3",
   "version": "3.7.1"
  }
 },
 "nbformat": 4,
 "nbformat_minor": 2
}
