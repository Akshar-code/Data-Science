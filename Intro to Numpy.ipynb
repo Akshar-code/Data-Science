{
 "cells": [
  {
   "cell_type": "code",
   "execution_count": 2,
   "metadata": {},
   "outputs": [],
   "source": [
    "import numpy as np"
   ]
  },
  {
   "cell_type": "code",
   "execution_count": 83,
   "metadata": {},
   "outputs": [],
   "source": [
    "def t(x):\n",
    "    print(\"----------------------------------------------------------------------------------\")\n",
    "    print(x)\n",
    "    print('----------------------------------------------------------------------------------')\n",
    "    return None"
   ]
  },
  {
   "cell_type": "code",
   "execution_count": 84,
   "metadata": {},
   "outputs": [
    {
     "name": "stdout",
     "output_type": "stream",
     "text": [
      "----------------------------------------------------------------------------------\n",
      "creating a 1D array\n",
      "----------------------------------------------------------------------------------\n",
      "[1 2 3]\n"
     ]
    }
   ],
   "source": [
    "t('creating a 1D array')\n",
    "a=np.array([1,2,3])\n",
    "print(a)"
   ]
  },
  {
   "cell_type": "code",
   "execution_count": 97,
   "metadata": {},
   "outputs": [
    {
     "name": "stdout",
     "output_type": "stream",
     "text": [
      "----------------------------------------------------------------------------------\n",
      "creating a 2D array\n",
      "----------------------------------------------------------------------------------\n",
      "[[[1 2 3]\n",
      "  [4 5 6]\n",
      "  [7 8 9]]]\n"
     ]
    }
   ],
   "source": [
    "t('creating a 2D array')\n",
    "b=np.array([[[1,2,3],[4,5,6],[7,8,9]]])\n",
    "print(b)"
   ]
  },
  {
   "cell_type": "code",
   "execution_count": 98,
   "metadata": {},
   "outputs": [
    {
     "name": "stdout",
     "output_type": "stream",
     "text": [
      "----------------------------------------------------------------------------------\n",
      "Indexing through the Numpy array\n",
      "----------------------------------------------------------------------------------\n",
      "[[1 2 3]\n",
      " [4 5 6]\n",
      " [7 8 9]]\n",
      "[1 2 3]\n"
     ]
    }
   ],
   "source": [
    "t('Indexing through the Numpy array')\n",
    "print(b[0])\n",
    "print(b[0][0])"
   ]
  },
  {
   "cell_type": "code",
   "execution_count": 110,
   "metadata": {},
   "outputs": [
    {
     "name": "stdout",
     "output_type": "stream",
     "text": [
      "----------------------------------------------------------------------------------\n",
      "Different methods available in Numpy Object\n",
      "----------------------------------------------------------------------------------\n",
      "3 -> The dimension of the Array\n",
      "int32 -> The datatype of the Array\n",
      "4 -> The size of the Data type in bits\n",
      "9 ->Numeber of elements in the array\n",
      "(1, 3, 3) -> returns a tuple of the length of each dimension of the array\n"
     ]
    }
   ],
   "source": [
    "t('Different methods available in Numpy Object')\n",
    "print(b.ndim,\"-> The dimension of the Array\") \n",
    "print(b.dtype,\"-> The datatype of the Array\")\n",
    "print(b.itemsize,\"-> The size of the Data type in bits\")\n",
    "print(b.size,'->Numeber of elements in the array')\n",
    "print(b.shape,'-> returns a tuple of the length of each dimension of the array')"
   ]
  },
  {
   "cell_type": "code",
   "execution_count": 108,
   "metadata": {},
   "outputs": [
    {
     "name": "stdout",
     "output_type": "stream",
     "text": [
      "----------------------------------------------------------------------------------\n",
      "Data Type of the Array\n",
      "----------------------------------------------------------------------------------\n",
      "----------------------------------------------------------------------------------\n",
      "Initializing a int data type array\n",
      "----------------------------------------------------------------------------------\n",
      "[1 2 3]\n",
      "----------------------------------------------------------------------------------\n",
      "Inializing a float data type array\n",
      "----------------------------------------------------------------------------------\n",
      "[1. 2. 3.]\n",
      "----------------------------------------------------------------------------------\n",
      "Initializing a complex data type array\n",
      "----------------------------------------------------------------------------------\n",
      "[1.+0.j 2.+0.j 3.+0.j]\n"
     ]
    }
   ],
   "source": [
    "t(\"Data Type of the Array\")\n",
    "t('Initializing a int data type array')\n",
    "x=np.array([1,2,3],dtype=int)\n",
    "print(x)\n",
    "t('Inializing a float data type array')\n",
    "x=np.array([1,2,3],dtype=float)\n",
    "print(x)\n",
    "t('Initializing a complex data type array')\n",
    "x=np.array([1,2,3],dtype=complex)\n",
    "print(x)"
   ]
  },
  {
   "cell_type": "code",
   "execution_count": 113,
   "metadata": {},
   "outputs": [
    {
     "name": "stdout",
     "output_type": "stream",
     "text": [
      "----------------------------------------------------------------------------------\n",
      "Declaring special type of Arrays\n",
      "----------------------------------------------------------------------------------\n",
      "----------------------------------------------------------------------------------\n",
      "In Data Science often we require matrices/arrays filled with 0's or 1's\n",
      "----------------------------------------------------------------------------------\n",
      "----------------------------------------------------------------------------------\n",
      "Matrix of 0's\n",
      "----------------------------------------------------------------------------------\n",
      "[[0. 0. 0. 0.]\n",
      " [0. 0. 0. 0.]\n",
      " [0. 0. 0. 0.]]\n",
      "----------------------------------------------------------------------------------\n",
      "Matrix of 1's\n",
      "----------------------------------------------------------------------------------\n",
      "[[1. 1. 1. 1.]\n",
      " [1. 1. 1. 1.]\n",
      " [1. 1. 1. 1.]]\n"
     ]
    }
   ],
   "source": [
    "t(\"Declaring special type of Arrays\")\n",
    "t(\"In Data Science often we require matrices/arrays filled with 0's or 1's\")\n",
    "t(\"Matrix of 0's\")\n",
    "x=np.zeros((3,4))\n",
    "print(x)\n",
    "t(\"Matrix of 1's\")\n",
    "x=np.ones((3,4))\n",
    "print(x)"
   ]
  },
  {
   "cell_type": "code",
   "execution_count": 116,
   "metadata": {},
   "outputs": [
    {
     "name": "stdout",
     "output_type": "stream",
     "text": [
      "----------------------------------------------------------------------------------\n",
      "creating a 1D array of sequential numbers\n",
      "----------------------------------------------------------------------------------\n",
      "[0 1 2 3 4 5 6 7 8 9]\n",
      "----------------------------------------------------------------------------------\n",
      "creating a 1D array of sequential numbers with increments\n",
      "----------------------------------------------------------------------------------\n",
      "[0 2 4 6 8]\n"
     ]
    }
   ],
   "source": [
    "t(\"creating a 1D array of sequential numbers\")\n",
    "# arange is similar to range in native Python\n",
    "x=np.arange(0,10) \n",
    "print(x)\n",
    "t(\"creating a 1D array of sequential numbers with increments\")\n",
    "x=np.arange(0,10,2)#increment\n",
    "print(x)"
   ]
  },
  {
   "cell_type": "code",
   "execution_count": 118,
   "metadata": {},
   "outputs": [
    {
     "name": "stdout",
     "output_type": "stream",
     "text": [
      "----------------------------------------------------------------------------------\n",
      "Creating a 1D array of linearly spaced numbers between 2 numbers\n",
      "----------------------------------------------------------------------------------\n",
      "[ 1.   2.5  4.   5.5  7.   8.5 10. ]\n"
     ]
    }
   ],
   "source": [
    "t('Creating a 1D array of linearly spaced numbers between 2 numbers')\n",
    "x=np.linspace(1,10,7)\n",
    "print(x)"
   ]
  },
  {
   "cell_type": "code",
   "execution_count": 127,
   "metadata": {},
   "outputs": [
    {
     "name": "stdout",
     "output_type": "stream",
     "text": [
      "----------------------------------------------------------------------------------\n",
      "Reshaping an array\n",
      "----------------------------------------------------------------------------------\n",
      "(3, 3)\n",
      "(1, 9)\n"
     ]
    }
   ],
   "source": [
    "t('Reshaping an array')\n",
    "x=np.array([[1,2,3],[4,5,6],[7,8,9]])\n",
    "print(x.shape)\n",
    "y=x.reshape(1,9)\n",
    "print(y.shape)"
   ]
  },
  {
   "cell_type": "code",
   "execution_count": 134,
   "metadata": {},
   "outputs": [
    {
     "name": "stdout",
     "output_type": "stream",
     "text": [
      "----------------------------------------------------------------------------------\n",
      "To convert any dimension array to 1D array\n",
      "----------------------------------------------------------------------------------\n",
      "[1 2 3 4 5 6 7 8 9]\n"
     ]
    }
   ],
   "source": [
    "t('To convert any dimension array to 1D array')\n",
    "x=np.array([[1,2,3],[4,5,6],[7,8,9]])\n",
    "print(x.ravel())"
   ]
  },
  {
   "cell_type": "code",
   "execution_count": 141,
   "metadata": {},
   "outputs": [
    {
     "name": "stdout",
     "output_type": "stream",
     "text": [
      "----------------------------------------------------------------------------------\n",
      "Some statistical measures\n",
      "----------------------------------------------------------------------------------\n",
      "1 -> prints the minimum number in the whole array\n",
      "9 ->prints the maximum number in the whole array\n",
      "45 ->prints the sum of all numbers\n",
      "----------------------------------------------------------------------------------\n",
      "Sum across axis 1\n",
      "----------------------------------------------------------------------------------\n",
      "[ 6 15 24]\n",
      "----------------------------------------------------------------------------------\n",
      "Sum across axis 0\n",
      "----------------------------------------------------------------------------------\n",
      "[12 15 18]\n",
      "----------------------------------------------------------------------------------\n",
      "Square Root of all the numbers in the array\n",
      "----------------------------------------------------------------------------------\n",
      "[[1.         1.41421356 1.73205081]\n",
      " [2.         2.23606798 2.44948974]\n",
      " [2.64575131 2.82842712 3.        ]]\n"
     ]
    }
   ],
   "source": [
    "t(\"Some statistical measures\")\n",
    "print(x.min(),'-> prints the minimum number in the whole array')\n",
    "print(x.max(),'->prints the maximum number in the whole array')\n",
    "print(x.sum(),'->prints the sum of all numbers')\n",
    "t(\"Sum across axis 1\") #Column sum\n",
    "print(x.sum(axis=1))\n",
    "t(\"Sum across axis 0\") #Row sum\n",
    "print(x.sum(axis=0))\n",
    "t(\"Square Root of all the numbers in the array\")\n",
    "print(np.sqrt(x))"
   ]
  },
  {
   "cell_type": "code",
   "execution_count": 142,
   "metadata": {},
   "outputs": [
    {
     "name": "stdout",
     "output_type": "stream",
     "text": [
      "----------------------------------------------------------------------------------\n",
      "Some Mathematical Operations on Numpy Arrays\n",
      "----------------------------------------------------------------------------------\n",
      "----------------------------------------------------------------------------------\n",
      "a\n",
      "----------------------------------------------------------------------------------\n",
      "[[1 2 3]\n",
      " [4 5 6]]\n",
      "----------------------------------------------------------------------------------\n",
      "b\n",
      "----------------------------------------------------------------------------------\n",
      "[[ 7  8  9]\n",
      " [10 11 12]]\n",
      "----------------------------------------------------------------------------------\n",
      "a+b\n",
      "----------------------------------------------------------------------------------\n",
      "[[ 8 10 12]\n",
      " [14 16 18]]\n",
      "----------------------------------------------------------------------------------\n",
      "a*b\n",
      "----------------------------------------------------------------------------------\n",
      "[[ 7 16 27]\n",
      " [40 55 72]]\n",
      "----------------------------------------------------------------------------------\n",
      "a/b\n",
      "----------------------------------------------------------------------------------\n",
      "[[0.14285714 0.25       0.33333333]\n",
      " [0.4        0.45454545 0.5       ]]\n"
     ]
    }
   ],
   "source": [
    "t(\"Some Mathematical Operations on Numpy Arrays\")\n",
    "a=np.array([[1,2,3],[4,5,6]])\n",
    "b=np.array([[7,8,9],[10,11,12]])\n",
    "t('a')\n",
    "print(a)\n",
    "t('b')\n",
    "print(b)\n",
    "t('a+b')\n",
    "print(a+b)\n",
    "t('a*b')\n",
    "print(a*b)\n",
    "t('a/b')\n",
    "print(a/b)"
   ]
  },
  {
   "cell_type": "code",
   "execution_count": 144,
   "metadata": {},
   "outputs": [
    {
     "name": "stdout",
     "output_type": "stream",
     "text": [
      "----------------------------------------------------------------------------------\n",
      "Akshar\n",
      "----------------------------------------------------------------------------------\n"
     ]
    }
   ],
   "source": [
    "#Thats it for the Intro To Numpy ipynb\n",
    "t(\"Akshar\")"
   ]
  },
  {
   "cell_type": "code",
   "execution_count": null,
   "metadata": {},
   "outputs": [],
   "source": []
  }
 ],
 "metadata": {
  "kernelspec": {
   "display_name": "Python 3",
   "language": "python",
   "name": "python3"
  },
  "language_info": {
   "codemirror_mode": {
    "name": "ipython",
    "version": 3
   },
   "file_extension": ".py",
   "mimetype": "text/x-python",
   "name": "python",
   "nbconvert_exporter": "python",
   "pygments_lexer": "ipython3",
   "version": "3.7.1"
  }
 },
 "nbformat": 4,
 "nbformat_minor": 2
}
